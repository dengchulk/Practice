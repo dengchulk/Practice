{
 "cells": [
  {
   "cell_type": "code",
   "execution_count": 30,
   "metadata": {},
   "outputs": [
    {
     "name": "stdout",
     "output_type": "stream",
     "text": [
      "1234 1243 1324 1342 1423 1432 2134 2143 2314 2341 2413 2431 3124 3142 3214 3241 3412 3421 4123 4132 4213 4231 4312 4321 24\n"
     ]
    }
   ],
   "source": [
    "# 001题目：有四个数字：1、2、3、4，能组成多少个互不相同且无重复数字的三位数？各是多少？\n",
    "\n",
    "n = 0\n",
    "\n",
    "for a in range(1, 5):\n",
    "    for b in range(1, 5):\n",
    "        for c in range(1, 5):\n",
    "            for d in range(1, 5):\n",
    "                if (a != b) and (b != c) and (c != d) and (a != d) and (a != c) and (b != d):\n",
    "                        \n",
    "                    print(\"%d%d%d%d\"%(a,b,c,d), end = \" \")\n",
    "                    n = n + 1\n",
    "\n",
    "print(n)"
   ]
  },
  {
   "cell_type": "markdown",
   "metadata": {},
   "source": [
    "## 改进：\n",
    "底层循环的条件判别式太过冗长，可以尝试精简"
   ]
  },
  {
   "cell_type": "code",
   "execution_count": 33,
   "metadata": {},
   "outputs": [
    {
     "name": "stdout",
     "output_type": "stream",
     "text": [
      "1234 1243 1324 1342 1423 1432 2134 2143 2314 2341 2413 2431 3124 3142 3214 3241 3412 3421 4123 4132 4213 4231 4312 4321 24\n"
     ]
    }
   ],
   "source": [
    "n = 0\n",
    "\n",
    "for a in range(1, 5):\n",
    "    for b in range(1, 5):\n",
    "        if (a != b):\n",
    "            for c in range(1, 5):\n",
    "                if (a != c) and (b != c):\n",
    "                    for d in range(1, 5):\n",
    "                        if (a != d) and (b != d) and (c != d):\n",
    "                            \n",
    "                            print(\"%d%d%d%d\"%(a,b,c,d), end = \" \")\n",
    "                            n = n + 1\n",
    "\n",
    "print(n)\n",
    "\n",
    "# 减少了运算量，提高运算速度，并且可读性提高"
   ]
  },
  {
   "cell_type": "markdown",
   "metadata": {},
   "source": [
    "### permutations()\n",
    "\n",
    "有两个参数，第一个参数是一个一维数组，里面包含需要排列组合的元素；第二个参数是需要排列组合的位数n。\n",
    "例如本题传入的数组是[1,2,3,4],需要排列四位的数字，因此n = 4。\n",
    "返回一个由重组数组成的二维数组"
   ]
  },
  {
   "cell_type": "code",
   "execution_count": 51,
   "metadata": {},
   "outputs": [
    {
     "name": "stdout",
     "output_type": "stream",
     "text": [
      "1234 1243 1324 1342 1423 1432 2134 2143 2314 2341 2413 2431 3124 3142 3214 3241 3412 3421 4123 4132 4213 4231 4312 4321 \n",
      "共有24个数\n"
     ]
    }
   ],
   "source": [
    "# 还可以导入包\n",
    "n = 0\n",
    "from itertools import permutations\n",
    "for i in permutations([1,2,3,4], 4):\n",
    "    n = n + 1\n",
    "    print(\"%d%d%d%d\" % (i[0],i[1],i[2],i[3]), end = \" \")\n",
    "\n",
    "print(\"\\n共有%d个数\" % (n))"
   ]
  }
 ],
 "metadata": {
  "kernelspec": {
   "display_name": "Python 3",
   "language": "python",
   "name": "python3"
  },
  "language_info": {
   "codemirror_mode": {
    "name": "ipython",
    "version": 3
   },
   "file_extension": ".py",
   "mimetype": "text/x-python",
   "name": "python",
   "nbconvert_exporter": "python",
   "pygments_lexer": "ipython3",
   "version": "3.6.4"
  }
 },
 "nbformat": 4,
 "nbformat_minor": 2
}
