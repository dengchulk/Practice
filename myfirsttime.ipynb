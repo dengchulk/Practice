{
 "cells": [
  {
   "cell_type": "code",
   "execution_count": null,
   "metadata": {},
   "outputs": [],
   "source": [
    "import requests, os\n",
    "from bs4 import BeautifulSoup\n",
    "from urllib.request import urlopen\n",
    "\n",
    "url = 'https://www.44qkqk.com/'\n",
    "\n",
    "html = requests.get(url)\n",
    "html.encoding = \"utf-8\"\n",
    "\n",
    "sp = BeautifulSoup(html.text, 'html.parser')\n",
    "\n",
    "images_dir = \"Pictures/\"\n",
    "if os.path.exists(images_dir):\n",
    "    os.mkdir(images_dir)\n",
    "   \n",
    "all_links = sp.find_all(['a', 'img'])\n",
    "for link in all_links:\n",
    "    src = link.get('src')\n",
    "    href = link.get('href')\n",
    "    attrs = [src, href]\n",
    "    for attr in attrs:\n",
    "        if attr != None and ('.jpg' in attr or '.png'in attr):\n",
    "            full_path = attr\n",
    "            filename = full_path.split('/')[-1]\n",
    "            ext = filename.split('.')[-1]\n",
    "            filename = filename.split('.')[-2]\n",
    "            if 'jpg' in ext:\n",
    "                filename = filename + '.jpg'\n",
    "            else:\n",
    "                filename = filename + '.png'\n",
    "            print(filename)\n",
    "            try:\n",
    "                image = urlopen(full_path)\n",
    "                f = open(os.path.jion(images_dir, filename), 'wb')\n",
    "                f.close\n",
    "            except:\n",
    "                print(\"找不到文件{}\".format(filename))\n"
   ]
  }
 ],
 "metadata": {
  "kernelspec": {
   "display_name": "Python 3",
   "language": "python",
   "name": "python3"
  },
  "language_info": {
   "codemirror_mode": {
    "name": "ipython",
    "version": 3
   },
   "file_extension": ".py",
   "mimetype": "text/x-python",
   "name": "python",
   "nbconvert_exporter": "python",
   "pygments_lexer": "ipython3",
   "version": "3.6.4"
  }
 },
 "nbformat": 4,
 "nbformat_minor": 2
}
