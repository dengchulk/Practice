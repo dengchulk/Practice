{
 "cells": [
  {
   "cell_type": "code",
   "execution_count": 93,
   "metadata": {},
   "outputs": [
    {
     "name": "stdout",
     "output_type": "stream",
     "text": [
      "[1, 2, 3, 4, 5, 6, 7, 8, 9]\n",
      "[1, 2, 3, 4, 5, 6, 7, 8, 9, 100]\n"
     ]
    }
   ],
   "source": [
    "l = [i for i in range(1, 10)]\n",
    "print(l)\n",
    "l.append(100)\n",
    "print(l)"
   ]
  },
  {
   "cell_type": "code",
   "execution_count": 94,
   "metadata": {},
   "outputs": [
    {
     "name": "stdout",
     "output_type": "stream",
     "text": [
      "[1, 2, 3, 4, 5, 6, 7, 8, 9, 10, 100]\n"
     ]
    }
   ],
   "source": [
    "#list.insert(index, value)\n",
    "l.insert(9, 10)\n",
    "print(l)"
   ]
  },
  {
   "cell_type": "code",
   "execution_count": 95,
   "metadata": {},
   "outputs": [
    {
     "name": "stdout",
     "output_type": "stream",
     "text": [
      "[1, 2, 3, 4, 5, 6, 7, 8, 9, 10]\n",
      "100\n"
     ]
    }
   ],
   "source": [
    "#pop从列表最后弹出一项,并将改值作为返回值返回\n",
    "l_final = l.pop()\n",
    "print(l)\n",
    "print(l_final)"
   ]
  },
  {
   "cell_type": "code",
   "execution_count": 96,
   "metadata": {},
   "outputs": [
    {
     "name": "stdout",
     "output_type": "stream",
     "text": [
      "[2, 3, 4, 5, 6, 7, 8, 9, 10]\n",
      "[2, 3, 4, 6, 7, 8, 9, 10]\n",
      "[]\n"
     ]
    }
   ],
   "source": [
    "#del、remove删除列表中某一项\n",
    "#del(index)  remove(value)\n",
    "\n",
    "l.remove(1)\n",
    "print(l)\n",
    "del l[3]\n",
    "print(l)\n",
    "\n",
    "#clear()清空列表数据，但保留列表的定义\n",
    "l.clear()\n",
    "print(l)"
   ]
  },
  {
   "cell_type": "code",
   "execution_count": 97,
   "metadata": {},
   "outputs": [
    {
     "name": "stdout",
     "output_type": "stream",
     "text": [
      "[1, 11, 21, 31, 41, 51, 61, 71, 81, 91]\n",
      "None\n",
      "[91, 81, 71, 61, 51, 41, 31, 21, 11, 1]\n"
     ]
    }
   ],
   "source": [
    "#reverse翻转列表内容，返回值为空\n",
    "m = [i for i in range(1, 100, 10)]\n",
    "print(m)\n",
    "x = m.reverse()\n",
    "print(x,m,sep='\\n')"
   ]
  },
  {
   "cell_type": "code",
   "execution_count": 98,
   "metadata": {},
   "outputs": [
    {
     "name": "stdout",
     "output_type": "stream",
     "text": [
      "[91, 81, 71, 61, 51, 41, 31, 21, 11, 1, 1, 2, 3, 4, 5, 6, 7, 8, 9]\n"
     ]
    }
   ],
   "source": [
    "#extend(),延长（或者叫拼接）将两个列表对接\n",
    "b = [i for i in range(1, 10)]\n",
    "m.extend(b)  #将括号里的拼接到前面列表的后面\n",
    "print(m)"
   ]
  },
  {
   "cell_type": "code",
   "execution_count": 99,
   "metadata": {},
   "outputs": [
    {
     "name": "stdout",
     "output_type": "stream",
     "text": [
      "1\n"
     ]
    }
   ],
   "source": [
    "#count(value)查找并返回列表中值的个数\n",
    "n = m.count(91)\n",
    "print(n)"
   ]
  },
  {
   "cell_type": "code",
   "execution_count": 100,
   "metadata": {},
   "outputs": [
    {
     "name": "stdout",
     "output_type": "stream",
     "text": [
      "[]\n",
      "[]\n",
      "3\n",
      "1\n",
      "[12, 31, 56, 54, 65]\n",
      "[12, 31, 56, 54, 65]\n"
     ]
    }
   ],
   "source": [
    "a = b\n",
    "a.clear()\n",
    "print(a, b, sep='\\n')\n",
    "#列表的赋值是传地址\n",
    "ac = bc = 1\n",
    "ac = 3\n",
    "print(ac, bc, sep='\\n')\n",
    "#数字变量的赋值是传值\n",
    "\n",
    "a = [12,31,56,54,65]\n",
    "b = a.copy()\n",
    "print(a, b,sep='\\n')"
   ]
  },
  {
   "cell_type": "code",
   "execution_count": 101,
   "metadata": {},
   "outputs": [
    {
     "name": "stdout",
     "output_type": "stream",
     "text": [
      "[12, 31, 56, 54, 65]\n",
      "[12, 31, 56, 54, 65, 10]\n"
     ]
    }
   ],
   "source": [
    "b.append(10)\n",
    "print(a, b,sep='\\n')"
   ]
  },
  {
   "cell_type": "code",
   "execution_count": null,
   "metadata": {},
   "outputs": [],
   "source": []
  }
 ],
 "metadata": {
  "kernelspec": {
   "display_name": "Python 3",
   "language": "python",
   "name": "python3"
  },
  "language_info": {
   "codemirror_mode": {
    "name": "ipython",
    "version": 3
   },
   "file_extension": ".py",
   "mimetype": "text/x-python",
   "name": "python",
   "nbconvert_exporter": "python",
   "pygments_lexer": "ipython3",
   "version": "3.6.4"
  }
 },
 "nbformat": 4,
 "nbformat_minor": 2
}
