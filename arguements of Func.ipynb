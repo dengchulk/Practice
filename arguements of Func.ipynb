{
 "cells": [
  {
   "cell_type": "code",
   "execution_count": 9,
   "metadata": {},
   "outputs": [
    {
     "name": "stdout",
     "output_type": "stream",
     "text": [
      "我叫邓志超，我是一个大学生，我的爱好是打游戏\n",
      "********************\n",
      "<class 'tuple'>\n",
      "邓志超\n",
      "大学生\n",
      "打游戏\n"
     ]
    }
   ],
   "source": [
    "def func(*arg):\n",
    "    ls = arg\n",
    "    print(\"我叫{0}，我是一个{1}，我的爱好是{2}\".format(ls[0], ls[1], ls[2]))\n",
    "    print(\"*\" * 20)\n",
    "    print(type(arg))\n",
    "    for item in ls:\n",
    "        print(item)\n",
    "func(\"邓志超\", \"大学生\", \"打游戏\")"
   ]
  },
  {
   "cell_type": "code",
   "execution_count": 25,
   "metadata": {},
   "outputs": [
    {
     "name": "stdout",
     "output_type": "stream",
     "text": [
      "I love you\n",
      "28\n"
     ]
    }
   ],
   "source": [
    "def cpt(*arg):\n",
    "    if type(arg[0])==type(\"a\"):\n",
    "        a = \"\"\n",
    "    else:\n",
    "        a = 0\n",
    "        \n",
    "    for item in arg:\n",
    "            a += item\n",
    "    print(a)   \n",
    "\n",
    "        \n",
    "        \n",
    "cpt(\"I\", \" \", \"love\", \" \", \"you\")\n",
    "cpt(1,2,3,4,5,6,7)"
   ]
  },
  {
   "cell_type": "code",
   "execution_count": 29,
   "metadata": {},
   "outputs": [],
   "source": [
    "## 各种参数的调用顺序\n",
    "def function(arg, *args, kwarg, **kwargs):\n",
    "    pass"
   ]
  }
 ],
 "metadata": {
  "kernelspec": {
   "display_name": "Python 3",
   "language": "python",
   "name": "python3"
  },
  "language_info": {
   "codemirror_mode": {
    "name": "ipython",
    "version": 3
   },
   "file_extension": ".py",
   "mimetype": "text/x-python",
   "name": "python",
   "nbconvert_exporter": "python",
   "pygments_lexer": "ipython3",
   "version": "3.6.4"
  }
 },
 "nbformat": 4,
 "nbformat_minor": 2
}
