{
 "cells": [
  {
   "cell_type": "code",
   "execution_count": 14,
   "metadata": {},
   "outputs": [
    {
     "name": "stdout",
     "output_type": "stream",
     "text": [
      "这是在函数外100\n",
      "函数外的b 10\n",
      "100\n",
      "这是在函数内10\n"
     ]
    }
   ],
   "source": [
    "a = 100\n",
    "\n",
    "def name():\n",
    "    print(a)\n",
    "    global b\n",
    "    b = 10\n",
    "    print(\"这是在函数内%d\" %b)\n",
    "\n",
    "print(\"这是在函数外%d\" %a)\n",
    "print(\"函数外的b\",b)\n",
    "\n",
    "name()"
   ]
  }
 ],
 "metadata": {
  "kernelspec": {
   "display_name": "Python 3",
   "language": "python",
   "name": "python3"
  },
  "language_info": {
   "codemirror_mode": {
    "name": "ipython",
    "version": 3
   },
   "file_extension": ".py",
   "mimetype": "text/x-python",
   "name": "python",
   "nbconvert_exporter": "python",
   "pygments_lexer": "ipython3",
   "version": "3.6.4"
  }
 },
 "nbformat": 4,
 "nbformat_minor": 2
}
